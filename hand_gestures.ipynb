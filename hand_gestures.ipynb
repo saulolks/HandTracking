{
  "nbformat": 4,
  "nbformat_minor": 0,
  "metadata": {
    "colab": {
      "name": "Entrega 2 - PDI.ipynb",
      "provenance": [],
      "collapsed_sections": [],
      "toc_visible": true,
      "include_colab_link": true
    },
    "kernelspec": {
      "name": "python3",
      "display_name": "Python 3"
    }
  },
  "cells": [
    {
      "cell_type": "markdown",
      "metadata": {
        "id": "view-in-github",
        "colab_type": "text"
      },
      "source": [
        "<a href=\"https://colab.research.google.com/github/saulolks/HandTracking/blob/master/hand_gestures.ipynb\" target=\"_parent\"><img src=\"https://colab.research.google.com/assets/colab-badge.svg\" alt=\"Open In Colab\"/></a>"
      ]
    },
    {
      "cell_type": "markdown",
      "metadata": {
        "id": "RNGTKrroRwSK",
        "colab_type": "text"
      },
      "source": [
        "# Entrega 2 - Projeto PDI\n",
        "### Aplicação de filtros para obtenção do objeto de interesse removendo partes desnecessárias da imagem."
      ]
    },
    {
      "cell_type": "code",
      "metadata": {
        "id": "ZkW2edHWx3wQ",
        "colab_type": "code",
        "colab": {}
      },
      "source": [
        "import cv2\n",
        "import numpy as np\n",
        "%matplotlib inline\n",
        "from matplotlib import pyplot as plt\n",
        "from google.colab.patches import cv2_imshow"
      ],
      "execution_count": 0,
      "outputs": []
    },
    {
      "cell_type": "code",
      "metadata": {
        "id": "p6A-Mq8uyqM9",
        "colab_type": "code",
        "colab": {}
      },
      "source": [
        "wsize_open = 5\n",
        "wsize_gaussian = 5\n",
        "\n",
        "y_min = 54\n",
        "y_max = 137\n",
        "crmin = 135\n",
        "crmax = 174\n",
        "cbmin = 0 \n",
        "cbmax = 125"
      ],
      "execution_count": 0,
      "outputs": []
    },
    {
      "cell_type": "code",
      "metadata": {
        "id": "hXERy3jTyroA",
        "colab_type": "code",
        "colab": {}
      },
      "source": [
        "headcascade = cv2.CascadeClassifier('face.xml')\n",
        "backSub = cv2.createBackgroundSubtractorKNN(history=500, dist2Threshold=30)\n",
        "kernel = np.ones((wsize_open, wsize_open), np.uint8)"
      ],
      "execution_count": 0,
      "outputs": []
    },
    {
      "cell_type": "code",
      "metadata": {
        "id": "K6Ff_uqMyss8",
        "colab_type": "code",
        "outputId": "ff5fbe33-4a7c-4abb-e377-df5433c3f759",
        "colab": {
          "base_uri": "https://localhost:8080/",
          "height": 254
        }
      },
      "source": [
        "original = cv2.imread('sample.jpg')\n",
        "image = cv2.cvtColor(original, cv2.COLOR_BGR2YCR_CB)\n",
        "\n",
        "fig, axes = plt.subplots(1, 2, figsize=(15, 8))\n",
        "ax = axes.ravel()\n",
        "ax[0].imshow(cv2.cvtColor(original, cv2.COLOR_BGR2RGB))\n",
        "ax[0].set_title('Original')\n",
        "ax[0].set_axis_off()\n",
        "\n",
        "ax[1].imshow(image)\n",
        "ax[1].set_title('YCrCb')\n",
        "ax[1].set_axis_off()"
      ],
      "execution_count": 0,
      "outputs": [
        {
          "output_type": "error",
          "ename": "error",
          "evalue": "ignored",
          "traceback": [
            "\u001b[0;31m---------------------------------------------------------------------------\u001b[0m",
            "\u001b[0;31merror\u001b[0m                                     Traceback (most recent call last)",
            "\u001b[0;32m<ipython-input-11-4eea05f32919>\u001b[0m in \u001b[0;36m<module>\u001b[0;34m()\u001b[0m\n\u001b[1;32m      1\u001b[0m \u001b[0moriginal\u001b[0m \u001b[0;34m=\u001b[0m \u001b[0mcv2\u001b[0m\u001b[0;34m.\u001b[0m\u001b[0mimread\u001b[0m\u001b[0;34m(\u001b[0m\u001b[0;34m'sample.jpg'\u001b[0m\u001b[0;34m)\u001b[0m\u001b[0;34m\u001b[0m\u001b[0;34m\u001b[0m\u001b[0m\n\u001b[0;32m----> 2\u001b[0;31m \u001b[0mimage\u001b[0m \u001b[0;34m=\u001b[0m \u001b[0mcv2\u001b[0m\u001b[0;34m.\u001b[0m\u001b[0mcvtColor\u001b[0m\u001b[0;34m(\u001b[0m\u001b[0moriginal\u001b[0m\u001b[0;34m,\u001b[0m \u001b[0mcv2\u001b[0m\u001b[0;34m.\u001b[0m\u001b[0mCOLOR_BGR2YCR_CB\u001b[0m\u001b[0;34m)\u001b[0m\u001b[0;34m\u001b[0m\u001b[0;34m\u001b[0m\u001b[0m\n\u001b[0m\u001b[1;32m      3\u001b[0m \u001b[0;34m\u001b[0m\u001b[0m\n\u001b[1;32m      4\u001b[0m \u001b[0mfig\u001b[0m\u001b[0;34m,\u001b[0m \u001b[0maxes\u001b[0m \u001b[0;34m=\u001b[0m \u001b[0mplt\u001b[0m\u001b[0;34m.\u001b[0m\u001b[0msubplots\u001b[0m\u001b[0;34m(\u001b[0m\u001b[0;36m1\u001b[0m\u001b[0;34m,\u001b[0m \u001b[0;36m2\u001b[0m\u001b[0;34m,\u001b[0m \u001b[0mfigsize\u001b[0m\u001b[0;34m=\u001b[0m\u001b[0;34m(\u001b[0m\u001b[0;36m15\u001b[0m\u001b[0;34m,\u001b[0m \u001b[0;36m8\u001b[0m\u001b[0;34m)\u001b[0m\u001b[0;34m)\u001b[0m\u001b[0;34m\u001b[0m\u001b[0;34m\u001b[0m\u001b[0m\n\u001b[1;32m      5\u001b[0m \u001b[0max\u001b[0m \u001b[0;34m=\u001b[0m \u001b[0maxes\u001b[0m\u001b[0;34m.\u001b[0m\u001b[0mravel\u001b[0m\u001b[0;34m(\u001b[0m\u001b[0;34m)\u001b[0m\u001b[0;34m\u001b[0m\u001b[0;34m\u001b[0m\u001b[0m\n",
            "\u001b[0;31merror\u001b[0m: OpenCV(3.4.3) /io/opencv/modules/imgproc/src/color.cpp:181: error: (-215:Assertion failed) !_src.empty() in function 'cvtColor'\n"
          ]
        }
      ]
    },
    {
      "cell_type": "markdown",
      "metadata": {
        "id": "s68jwB1JErCL",
        "colab_type": "text"
      },
      "source": [
        "## Localiza Face\n",
        "Localiza a face na imagem em tons de cinza."
      ]
    },
    {
      "cell_type": "code",
      "metadata": {
        "id": "SuozNpB6ytxn",
        "colab_type": "code",
        "colab": {}
      },
      "source": [
        "image_gray = cv2.cvtColor(original, cv2.COLOR_BGR2GRAY)\n",
        "faces = headcascade.detectMultiScale(image_gray, 1.3, 5)\n",
        "\n",
        "fig, axes = plt.subplots(1, 2, figsize=(15, 8))\n",
        "ax = axes.ravel()\n",
        "ax[0].imshow(cv2.cvtColor(original, cv2.COLOR_BGR2RGB))\n",
        "ax[0].set_title('Original')\n",
        "ax[0].set_axis_off()\n",
        "\n",
        "ax[1].imshow(image_gray, cmap='gray')\n",
        "ax[1].set_title('Gray')\n",
        "ax[1].set_axis_off()"
      ],
      "execution_count": 0,
      "outputs": []
    },
    {
      "cell_type": "markdown",
      "metadata": {
        "id": "UG2X1fOiE96f",
        "colab_type": "text"
      },
      "source": [
        "### Divide imagem YCrCb em 3 canais"
      ]
    },
    {
      "cell_type": "code",
      "metadata": {
        "id": "rdHsosrjyvTS",
        "colab_type": "code",
        "colab": {}
      },
      "source": [
        "y, cr, cb = cv2.split(image)"
      ],
      "execution_count": 0,
      "outputs": []
    },
    {
      "cell_type": "markdown",
      "metadata": {
        "id": "GlYCmXS1FGF1",
        "colab_type": "text"
      },
      "source": [
        "### Binarização"
      ]
    },
    {
      "cell_type": "code",
      "metadata": {
        "id": "a_mCjF9aywVs",
        "colab_type": "code",
        "colab": {}
      },
      "source": [
        "_, y = cv2.threshold(y, y_min, y_max, cv2.THRESH_BINARY)\n",
        "_, cr = cv2.threshold(cr, crmin, crmax, cv2.THRESH_BINARY)\n",
        "_, cb = cv2.threshold(cb, cbmin, cbmax, cv2.THRESH_BINARY)"
      ],
      "execution_count": 0,
      "outputs": []
    },
    {
      "cell_type": "markdown",
      "metadata": {
        "id": "bd42N46gFPbj",
        "colab_type": "text"
      },
      "source": [
        "### Morfologia\n",
        "Utiliza transformações morfológicas de abertura para remoção de pequenos artefatos na imagem."
      ]
    },
    {
      "cell_type": "code",
      "metadata": {
        "id": "KZwAcuuCyxv6",
        "colab_type": "code",
        "colab": {}
      },
      "source": [
        "y = cv2.morphologyEx(y, cv2.MORPH_OPEN, kernel)\n",
        "cr = cv2.morphologyEx(cr, cv2.MORPH_OPEN, kernel)\n",
        "cb = cv2.morphologyEx(cb, cv2.MORPH_OPEN, kernel)"
      ],
      "execution_count": 0,
      "outputs": []
    },
    {
      "cell_type": "markdown",
      "metadata": {
        "id": "4g-HAoxUFUch",
        "colab_type": "text"
      },
      "source": [
        "### Merge"
      ]
    },
    {
      "cell_type": "code",
      "metadata": {
        "id": "AHmmTLjaOh33",
        "colab_type": "code",
        "colab": {}
      },
      "source": [
        "def remove_concomponent(img, min_value):\n",
        "    shape = (len(img), len(img[0]))\n",
        "    img2 = np.zeros(shape)\n",
        "\n",
        "    nb_components, output, stats, _ = cv2.connectedComponentsWithStats(img, connectivity=8)\n",
        "    sizes = stats[1:, -1]\n",
        "    nb_components = nb_components - 1\n",
        "\n",
        "    for i in range(0, nb_components):\n",
        "        if sizes[i] >= min_value:\n",
        "            img2[output == i + 1] = 255\n",
        "\n",
        "    return img2.astype(np.uint8)"
      ],
      "execution_count": 0,
      "outputs": []
    },
    {
      "cell_type": "code",
      "metadata": {
        "id": "dDwE_f5hyzCz",
        "colab_type": "code",
        "colab": {}
      },
      "source": [
        "img = y + cr + cb\n",
        "\n",
        "_, img = cv2.threshold(img, 100, 255, cv2.THRESH_BINARY)\n",
        "\n",
        "fig, axes = plt.subplots(1, 2, figsize=(15, 8))\n",
        "ax = axes.ravel()\n",
        "\n",
        "ax[0].imshow(img, cmap='gray')\n",
        "ax[0].set_title('Binary')\n",
        "ax[0].set_axis_off()\n",
        "\n",
        "mask = backSub.apply(image)\n",
        "img = cv2.bitwise_and(mask, img)\n",
        "img = cv2.medianBlur(img, wsize_gaussian)\n",
        "\n",
        "ax[1].imshow(img, cmap='gray')\n",
        "ax[1].set_title('Filtro Média')\n",
        "ax[1].set_axis_off()\n",
        "\n",
        "img = remove_concomponent(img=img, min_value=150)\n"
      ],
      "execution_count": 0,
      "outputs": []
    },
    {
      "cell_type": "markdown",
      "metadata": {
        "id": "Sr5mNwsaFZtC",
        "colab_type": "text"
      },
      "source": [
        "### Removendo Face"
      ]
    },
    {
      "cell_type": "code",
      "metadata": {
        "id": "EnerJKDKy0ux",
        "colab_type": "code",
        "colab": {}
      },
      "source": [
        "marge = 30\n",
        "for (x, y, w, h) in faces:\n",
        "    cv2.rectangle(img, (x - marge, y - h + marge), (x + marge + w, y + marge + h), (0, 0, 0), -1)\n",
        "    \n",
        "cv2_imshow(img)"
      ],
      "execution_count": 0,
      "outputs": []
    }
  ]
}